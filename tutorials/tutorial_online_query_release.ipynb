{
 "cells": [
  {
   "cell_type": "markdown",
   "metadata": {},
   "source": [
    "# This tutorial gives an example of calibrating noise in a complex DP mechanism that performs online query release (OQR) with Private Multiplicative Weight (MW) update."
   ]
  },
  {
   "cell_type": "markdown",
   "metadata": {},
   "source": [
    "### What does this algorithm do?\n",
    "\n",
    "It essentially learns a synthetic dataset while answering a long sequence of low-sensitivity queries on the fly.\n",
    "\n",
    "The answers are either from the synthetic dataset (considered postprocessing) or privately released from the actual dataset.\n",
    "\n",
    "The decision on which dataset to use is done in a differentially private manner using the sparse vector technique.\n",
    "\n",
    "For details, check out this lecture: https://sites.cs.ucsb.edu/~yuxiangw/classes/DPCourse-2021Fall/Lectures/lecture4_private_selection_annotated.pdf and the references therein."
   ]
  },
  {
   "cell_type": "markdown",
   "metadata": {},
   "source": [
    "### From autodp point of view\n",
    "\n",
    "The privacy MW algorithm is essentially a composition of $\\frac{16\\log{|\\mathcal{X}|}}{\\alpha^2}$ Laplace mechanisms for releassing queries together with the same number of the Above-threshold algorithm."
   ]
  },
  {
   "cell_type": "markdown",
   "metadata": {},
   "source": [
    "## In this tutorial, we will do two things differently\n",
    "\n",
    "1. We will replace the laplace mechanism with the Gaussian mechanism\n",
    "2. We will choose the parameters of the mechanism numerically to achieve a pre-defined privacy budget."
   ]
  },
  {
   "cell_type": "markdown",
   "metadata": {},
   "source": [
    "### First of all, if we know how to set these parameters then the following is how we should implement this mechanism in autodp"
   ]
  },
  {
   "cell_type": "code",
   "execution_count": 1,
   "metadata": {},
   "outputs": [
    {
     "name": "stderr",
     "output_type": "stream",
     "text": [
      "/usr/local/lib/python3.8/site-packages/scipy/optimize/_optimize.py:2884: RuntimeWarning: invalid value encountered in scalar divide\n",
      "  w = xb - ((xb - xc) * tmp2 - (xb - xa) * tmp1) / denom\n"
     ]
    },
    {
     "data": {
      "text/plain": [
       "7.7059259328547824"
      ]
     },
     "execution_count": 1,
     "metadata": {},
     "output_type": "execute_result"
    }
   ],
   "source": [
    "from autodp.mechanism_zoo import GaussianMechanism, PureDP_Mechanism\n",
    "from autodp.transformer_zoo import Composition\n",
    "\n",
    "sigma = 10.0\n",
    "eps = 0.1\n",
    "k = 100\n",
    "\n",
    "gm = GaussianMechanism(sigma,name='GM')\n",
    "SVT = PureDP_Mechanism(eps,name='SVT')\n",
    "compose = Composition()\n",
    "\n",
    "composed_mech = compose([gm, SVT], [k, k])\n",
    "\n",
    "# get the eps as a function of delta\n",
    "composed_mech.get_eps(delta=1e-6)"
   ]
  },
  {
   "cell_type": "markdown",
   "metadata": {},
   "source": [
    "As we can see it was quite easy to create this mechanism object on-the-fly by the mechanism API. In particular, whenever transformers are used, then we can easily spin-up a *Mechanism object* in the runtime, but it doesn't give us a *Mechanissm class definition* that is needed to use our generic calibration tool.  This example illustrates how to convert this into a mechanism class and use our calibator."
   ]
  },
  {
   "cell_type": "code",
   "execution_count": 2,
   "metadata": {},
   "outputs": [],
   "source": [
    "def create_complex_mech(sigma,eps, k):\n",
    "    \n",
    "    gm = GaussianMechanism(sigma, name='GM1')\n",
    "    SVT = PureDP_Mechanism(eps=eps, name='SVT')\n",
    "    compose = Composition()\n",
    "    composed_mech = compose([gm, SVT],[k,k])\n",
    "    \n",
    "    return composed_mech\n",
    "\n",
    "\n",
    "\n",
    "# next we can create it as a mechanism class, which requires us to inherit the base mechanism class,\n",
    "#  which we import now\n",
    "\n",
    "from autodp.autodp_core import Mechanism\n",
    "\n",
    "class PrivateMW_Mechanism(Mechanism):\n",
    "    def __init__(self, sigma,eps,k, name=\"PrivateMW\"):\n",
    "        self.name = name\n",
    "        self.params={'sigma':sigma,'eps':eps, 'k':k}\n",
    "        mech = create_complex_mech(sigma, eps, k)\n",
    "        # The following will set the function representation of the complex mechanism\n",
    "        # to be the same as that of the mech\n",
    "        self.set_all_representation(mech)\n",
    "\n",
    "\n",
    "        \n",
    "# There are too many parameters to tweak. Let's instead tweak alpha only and assume \n",
    "\n",
    "# sigma *(1/n)* C = alpha\n",
    "# 1/eps * (1/n) * C = alpha\n",
    "# k = log|X|/ alpha^2\n",
    "\n",
    "# for ana appropriately chosen parameter C.\n",
    "\n",
    "n= 10000\n",
    "C = 10\n",
    "logX = 20\n",
    "        \n",
    "class PrivateMW_Mechanism_alpha(PrivateMW_Mechanism):\n",
    "    def __init__(self,alpha,name='PrivateMW'):\n",
    "        PrivateMW_Mechanism.__init__(self,sigma=alpha/C*n,eps=C/alpha/n,k=logX/alpha**2,name=name)\n",
    "\n",
    "\n",
    "\n"
   ]
  },
  {
   "cell_type": "markdown",
   "metadata": {},
   "source": [
    "## Now we are ready to calibrate the parameters of the mechanism!"
   ]
  },
  {
   "cell_type": "code",
   "execution_count": 3,
   "metadata": {},
   "outputs": [
    {
     "name": "stdout",
     "output_type": "stream",
     "text": [
      "PrivateMW {'sigma': 110.77138063570763, 'eps': 0.009027602565401678, 'k': 1629.9521615769388} 2.4999707235939663\n",
      "Choice of alpha =  0.11077138063570763\n"
     ]
    }
   ],
   "source": [
    "\n",
    "from autodp.calibrator_zoo import eps_delta_calibrator\n",
    "\n",
    "calibrate = eps_delta_calibrator()\n",
    "\n",
    "eps_budget = 2.5\n",
    "\n",
    "delta_budget= 1e-6\n",
    "\n",
    "pmw_mech = calibrate(PrivateMW_Mechanism_alpha,eps_budget,delta_budget,[0,100])\n",
    "alpha = pmw_mech.params['sigma']/n*C\n",
    "\n",
    "print(pmw_mech.name, pmw_mech.params, pmw_mech.get_eps(delta_budget))\n",
    "print('Choice of alpha = ',alpha)\n"
   ]
  },
  {
   "cell_type": "code",
   "execution_count": null,
   "metadata": {},
   "outputs": [],
   "source": []
  }
 ],
 "metadata": {
  "kernelspec": {
   "display_name": "Python 3",
   "language": "python",
   "name": "python3"
  },
  "language_info": {
   "codemirror_mode": {
    "name": "ipython",
    "version": 3
   },
   "file_extension": ".py",
   "mimetype": "text/x-python",
   "name": "python",
   "nbconvert_exporter": "python",
   "pygments_lexer": "ipython3",
   "version": "3.8.16"
  }
 },
 "nbformat": 4,
 "nbformat_minor": 4
}
