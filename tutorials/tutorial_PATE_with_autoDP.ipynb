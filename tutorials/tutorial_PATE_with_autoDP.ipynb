{
 "cells": [
  {
   "cell_type": "markdown",
   "metadata": {},
   "source": [
    "# In this tutorial we will cover how to use autodp for the passive and active learning versions of PATE"
   ]
  },
  {
   "cell_type": "markdown",
   "metadata": {},
   "source": [
    "## 1. The first step is to represent PATE in autodp\n",
    "It is quite straightforward because it's just a sequence of Gaussian mechanisms with the same parameters."
   ]
  },
  {
   "cell_type": "code",
   "execution_count": 1,
   "metadata": {},
   "outputs": [],
   "source": [
    "from autodp.mechanism_zoo import GaussianMechanism \n",
    "\n",
    "import numpy as np\n",
    "\n",
    "class PATE(GaussianMechanism):\n",
    "    def __init__(self,sigma, m, Binary,name='PATE'):\n",
    "        # sigma is the std of the Gaussian noise added to the voting scores\n",
    "        if Binary:\n",
    "            # This is a binary classification task\n",
    "            sensitivity = 1\n",
    "        else: # for the multiclass case, the L2 sensitivity is sqrt(2)\n",
    "            sensitivity = np.sqrt(2)\n",
    "        GaussianMechanism.__init__(self, sigma=sigma/sensitivity/np.sqrt(m),name=name)\n",
    "        \n",
    "        self.params = {'sigma':sigma}\n"
   ]
  },
  {
   "cell_type": "markdown",
   "metadata": {},
   "source": [
    "## 2. It is straightforward to do privacy loss computation / privacy accounting"
   ]
  },
  {
   "cell_type": "code",
   "execution_count": 2,
   "metadata": {},
   "outputs": [
    {
     "name": "stdout",
     "output_type": "stream",
     "text": [
      "2.2540846502197396 1e-06\n",
      "4.886554117462211 1e-06\n"
     ]
    },
    {
     "name": "stderr",
     "output_type": "stream",
     "text": [
      "/usr/local/lib/python3.8/site-packages/scipy/optimize/_optimize.py:2884: RuntimeWarning: invalid value encountered in scalar divide\n",
      "  w = xb - ((xb - xc) * tmp2 - (xb - xa) * tmp1) / denom\n"
     ]
    }
   ],
   "source": [
    "# Computing the privacy loss after running the algorithm\n",
    "\n",
    "# let's say after running PATE-PSQ or ASQ with Gaussian mechanism to release m labels\n",
    "# the noise added to the voted histogram (in the multi-class case), \n",
    "# or the noise added to the # of teachers who voted positive is sigma\n",
    "# \n",
    "m = 100\n",
    "sigma = 20\n",
    "\n",
    "# let's say it is a binary classification task\n",
    "\n",
    "\n",
    "pate_mech = PATE(sigma=20,m=m,Binary=True, name='PATE')\n",
    "\n",
    "delta = 1e-6\n",
    "eps = pate_mech.get_approxDP(delta)\n",
    "\n",
    "print(eps,delta)\n",
    "\n",
    "\n",
    "pate_mech = PATE(sigma=10,m=m,Binary=True, name='PATE')\n",
    "delta = 1e-6\n",
    "eps = pate_mech.get_approxDP(delta)\n",
    "\n",
    "print(eps,delta)\n"
   ]
  },
  {
   "cell_type": "markdown",
   "metadata": {},
   "source": [
    "## 3. When we need to fulfill a pre-defined privacy parameter, we do privacy cabliration."
   ]
  },
  {
   "cell_type": "code",
   "execution_count": 3,
   "metadata": {},
   "outputs": [
    {
     "name": "stdout",
     "output_type": "stream",
     "text": [
      "PATE_eps=2 {'sigma': 22.304762938973138} 1.9999999777115467\n",
      "PATE_eps=0.5 {'sigma': 80.57618519751239} 0.49999999740789647\n"
     ]
    }
   ],
   "source": [
    "# Privacy calibtation:  given m,  eps,  choose sigma\n",
    "\n",
    "from autodp.calibrator_zoo import eps_delta_calibrator\n",
    "\n",
    "calibrate = eps_delta_calibrator()\n",
    "\n",
    "class PATE_binary_m(PATE):\n",
    "    def __init__(self,sigma, name='PATE_m'):\n",
    "        PATE.__init__(self, sigma=sigma,m=100,Binary=True,name=name)\n",
    "\n",
    "# Find the \\sigma parameter that gives the following privacy guarantee\n",
    "eps = 2.0\n",
    "delta = 1e-6\n",
    "\n",
    "mech1 = calibrate(PATE_binary_m,eps,delta,[0,100],name='PATE_eps=2')\n",
    "print(mech1.name, mech1.params,mech1.get_approxDP(delta))\n",
    "\n",
    "\n",
    "# Find the \\sigma parameter that gives the following privacy guarantee\n",
    "eps = 0.5\n",
    "delta = 1e-6\n",
    "\n",
    "mech2 = calibrate(PATE_binary_m,eps,delta,[0,100],name='PATE_eps=0.5')\n",
    "\n",
    "print(mech2.name, mech2.params,mech2.get_approxDP(delta))\n",
    "\n"
   ]
  },
  {
   "cell_type": "markdown",
   "metadata": {},
   "source": [
    "The above sigma parameters will then be used in running the PATE algorithm.  For active learning-version of PATE, set $m$ to be the label-budget, rather than the number of public unlabeled data points available.\n",
    "\n"
   ]
  },
  {
   "cell_type": "code",
   "execution_count": null,
   "metadata": {},
   "outputs": [],
   "source": []
  }
 ],
 "metadata": {
  "kernelspec": {
   "display_name": "Python 3",
   "language": "python",
   "name": "python3"
  },
  "language_info": {
   "codemirror_mode": {
    "name": "ipython",
    "version": 3
   },
   "file_extension": ".py",
   "mimetype": "text/x-python",
   "name": "python",
   "nbconvert_exporter": "python",
   "pygments_lexer": "ipython3",
   "version": "3.8.16"
  }
 },
 "nbformat": 4,
 "nbformat_minor": 4
}
