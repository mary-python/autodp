{
 "cells": [
  {
   "cell_type": "code",
   "execution_count": 1,
   "metadata": {},
   "outputs": [],
   "source": [
    "import sys\n",
    "import os\n",
    "from autodp.calibrator_zoo import eps_delta_calibrator,generalized_eps_delta_calibrator, ana_gaussian_calibrator\n",
    "from autodp import rdp_bank\n",
    "from autodp.mechanism_zoo import ExactGaussianMechanism, PureDP_Mechanism,SubsampleGaussianMechanism, GaussianMechanism, ComposedGaussianMechanism, LaplaceMechanism\n",
    "from autodp.transformer_zoo import Composition, AmplificationBySampling\n",
    "%matplotlib inline \n",
    "\n"
   ]
  },
  {
   "cell_type": "markdown",
   "metadata": {},
   "source": [
    "## Example 1: calibrating noise to privacy budgets.\n",
    "### Single parameter, composition is not applicable"
   ]
  },
  {
   "cell_type": "code",
   "execution_count": 2,
   "metadata": {},
   "outputs": [
    {
     "name": "stdout",
     "output_type": "stream",
     "text": [
      "GM {'sigma': 36.30468875626822} 0.10000000492561108\n",
      "Ana_GM {'sigma': 36.304691899114694} 0.09999999565548348\n"
     ]
    }
   ],
   "source": [
    "calibrate = eps_delta_calibrator()\n",
    "ana_calibrate = ana_gaussian_calibrator()\n",
    "eps = 0.1\n",
    "delta = 1e-6\n",
    "\n",
    "mech1 = calibrate(ExactGaussianMechanism,eps,delta,[0,100],name='GM')\n",
    "mech2 = ana_calibrate(ExactGaussianMechanism, eps, delta, name='Ana_GM')\n",
    "print(mech1.name, mech1.params, mech1.get_approxDP(delta))\n",
    "print(mech2.name, mech2.params, mech2.get_approxDP(delta))\n",
    "\n",
    "# privacy budget is (0.1, 1e-6), calibrate noise sigma\n",
    "# mech1 is for Gaussian mechanism and mech2 is for analytical Gaussian mechanism\n"
   ]
  },
  {
   "cell_type": "markdown",
   "metadata": {},
   "source": [
    "## Example 2: Calibration with Gaussian mechanism under composition"
   ]
  },
  {
   "cell_type": "code",
   "execution_count": 3,
   "metadata": {
    "pycharm": {
     "name": "#%%\n"
    }
   },
   "outputs": [
    {
     "name": "stdout",
     "output_type": "stream",
     "text": [
      "Composed_Gaussian {'sigma': 176.48801940301632, 'coeff': 20} 0.09999999894380397\n"
     ]
    },
    {
     "name": "stderr",
     "output_type": "stream",
     "text": [
      "/usr/local/lib/python3.8/site-packages/scipy/optimize/_optimize.py:2884: RuntimeWarning: invalid value encountered in scalar divide\n",
      "  w = xb - ((xb - xc) * tmp2 - (xb - xa) * tmp1) / denom\n"
     ]
    }
   ],
   "source": [
    "#We now have multiple parameters --- params['coeff'] and params['sigma'].\n",
    "\n",
    "\n",
    "coeff = 20\n",
    "general_calibrate = generalized_eps_delta_calibrator()\n",
    "params = {}\n",
    "params['sigma'] = None\n",
    "params['coeff'] = 20\n",
    "\n",
    "mech3 = general_calibrate(ComposedGaussianMechanism, eps, delta, [0,1000],params=params,para_name='sigma', name='Composed_Gaussian')\n",
    "print(mech3.name, mech3.params, mech3.get_approxDP(delta))\n",
    "#coeff is the number of composition. The calibrator calibrates the noise with other parameters (coeff) fixed.\n",
    "#[0,1000] is the range of sigma.\n"
   ]
  },
  {
   "cell_type": "markdown",
   "metadata": {},
   "source": [
    "## Example 3:  calibration with SubsampledGaussian mechanism"
   ]
  },
  {
   "cell_type": "code",
   "execution_count": 4,
   "metadata": {},
   "outputs": [
    {
     "name": "stdout",
     "output_type": "stream",
     "text": [
      "Subsampled_Gaussian {'prob': 0.01, 'sigma': 3.205947497273216, 'coeff': 20} 0.09999976859421401\n"
     ]
    }
   ],
   "source": [
    "# We now have three parameters --- params['coeff'], params['prob'] and params['sigma'].\n",
    "# The coeff and prob are fixed and the calibrator optimize over sigma. We use para_name to denote the parameter that we want to optimize over.\n",
    "\n",
    "params['prob'] = 0.01\n",
    "mech4 = general_calibrate(SubsampleGaussianMechanism, eps, delta, [0,1000],params=params,para_name='sigma', name='Subsampled_Gaussian')\n",
    "print(mech4.name, mech4.params, mech4.get_approxDP(delta))\n"
   ]
  },
  {
   "cell_type": "markdown",
   "metadata": {},
   "source": [
    "## Example 4: Calibration with single parameter for Laplace mechanism"
   ]
  },
  {
   "cell_type": "code",
   "execution_count": 5,
   "metadata": {
    "pycharm": {
     "name": "#%%\n"
    }
   },
   "outputs": [
    {
     "name": "stdout",
     "output_type": "stream",
     "text": [
      "Laplace {'b': 9.99979887663798} 0.10000001127407157\n"
     ]
    }
   ],
   "source": [
    "calibrate = generalized_eps_delta_calibrator()\n",
    "\n",
    "eps = 0.1\n",
    "delta = 1e-6\n",
    "mech = calibrate(LaplaceMechanism,eps,delta,[0,100],name='Laplace')\n",
    "print(mech.name, mech.params, mech.get_approxDP(delta))\n",
    "#[0, 100] is the range of laplace parameter b.\n",
    "# to calibrate the noise for the composed Laplace mechanism, we can define a new composed Lapalce mechanism in mechanism.zoo (similar with Example 2)"
   ]
  },
  {
   "cell_type": "markdown",
   "metadata": {},
   "source": [
    "## Example 5: Calibration of a Complex Mechanism Created using AutoDP API"
   ]
  },
  {
   "cell_type": "markdown",
   "metadata": {},
   "source": [
    "Remember Example 1 of the tutorial for the new API? This is when we compose Gaussian mechanism for 3 times,  another Gaussian mechanism for 5 times, then a Sparse Vector emchanism (as a pure-DP mechanism) for just once?\n",
    "\n",
    "The straightforward implementation is the following:\n",
    "\n",
    "\n",
    "------------\n",
    "```\n",
    "from autodp.mechanism_zoo import ExactGaussianMechanism, PureDP_Mechanism\n",
    "from autodp.transformer_zoo import Composition\n",
    "\n",
    "sigma1 = 5.0\n",
    "sigma2 = 8.0\n",
    "\n",
    "gm1 = ExactGaussianMechanism(sigma1,name='GM1')\n",
    "gm2 = ExactGaussianMechanism(sigma2,name='GM2')\n",
    "SVT = PureDP_Mechanism(eps=0.1,name='SVT')\n",
    "\n",
    "composed_mech = compose([gm1, gm2, SVT], [3, 5, 1])\n",
    "```\n",
    "------------\n",
    "\n",
    "As we can see it was quite easy to create this mechanism object on-the-fly by the mechanism API. In particular, whenever transformers are used, then we can easily spin-up a *Mechanism object* in the runtime, but it doesn't give us a *Mechanissm class definition* that is needed to use our generic calibration tool.  This example illustrates how to convert this into a mechanism class and use our calibator.\n",
    "\n"
   ]
  },
  {
   "cell_type": "code",
   "execution_count": 6,
   "metadata": {},
   "outputs": [
    {
     "name": "stdout",
     "output_type": "stream",
     "text": [
      "Complex_Mech_Bob {'sigma1': 5.0, 'sigma2': 8.0, 'coeffs': [3, 5, 1], 'eps': 0.4168098107957052} 2.4999997197775063\n"
     ]
    }
   ],
   "source": [
    "# The first step is to package this in a function where the input are the parameters,\n",
    "# and the output is the mechanism object\n",
    "\n",
    "def create_complex_mech(sigma1,sigma2,eps, coeffs):\n",
    "    gm1 = ExactGaussianMechanism(sigma1, name='GM1')\n",
    "    gm2 = ExactGaussianMechanism(sigma2, name='GM2')\n",
    "    SVT = PureDP_Mechanism(eps=eps, name='SVT')\n",
    "\n",
    "    # run gm1 for 3 rounds\n",
    "    # run gm2 for 5 times\n",
    "    # run SVT for once\n",
    "    # compose them with the transformation: compose.\n",
    "    compose = Composition()\n",
    "    composed_mech = compose([gm1, gm2, SVT], coeffs)\n",
    "    return composed_mech\n",
    "\n",
    "# next we can create it as a mechanism class, which requires us to inherit the base mechanism class,\n",
    "#  which we import now\n",
    "\n",
    "from autodp.autodp_core import Mechanism\n",
    "\n",
    "class Complex_Mechanism(Mechanism):\n",
    "    def __init__(self, params, name=\"A_Good_Name\"):\n",
    "        self.name = name\n",
    "        self.params = params\n",
    "        mech = create_complex_mech(params['sigma1'], params['sigma2'], params['eps'], params['coeffs'])\n",
    "        # The following will set the function representation of the complex mechanism\n",
    "        # to be the same as that of the mech\n",
    "        self.set_all_representation(mech)\n",
    "\n",
    "        \n",
    "\n",
    "        \n",
    "\n",
    "\n",
    "# Now one can calibrate the mechanism to achieve a pre-defined privacy budget\n",
    "\n",
    "# Let's say we want to fix sigma1 and sigma2 while tuning the eps parameter from SVT\n",
    "\n",
    "sigma1 = 5.0\n",
    "sigma2 = 8.0\n",
    "\n",
    "coeffs = [3, 5, 1]\n",
    "\n",
    "# Let's say we are to calibrate the noise to the following privacy budget\n",
    "eps_budget = 2.5\n",
    "\n",
    "delta_budget= 1e-6\n",
    "\n",
    "# declare a general_calibrate \"Calibrator\"\n",
    "\n",
    "general_calibrate = generalized_eps_delta_calibrator()\n",
    "\n",
    "# Set those parameters that we want to fix and leave \n",
    "params = {}\n",
    "params['sigma1'] = sigma1\n",
    "params['sigma2'] = sigma2\n",
    "params['coeffs'] = coeffs\n",
    "params['eps'] = None\n",
    "\n",
    "# Next, jussts call `general_calibrate` to find the right value of `eps` \n",
    "# to give us the mechanism that achieves the required privacy-budget\n",
    "mech_bob = general_calibrate(Complex_Mechanism, eps_budget, delta_budget, [0,50],params=params,\n",
    "                             para_name='eps',\n",
    "                             name='Complex_Mech_Bob')\n",
    "\n",
    "print(mech_bob.name, mech_bob.params, mech_bob.get_approxDP(delta))\n",
    "\n",
    "\n",
    "# Notice that so far we support only calibration with one-dimensional parameter while keeping all other parameters fixed.\n",
    "# Also the range [0,50] needs to be specified by the user so you many need to try a few times to get a feasible solution\n",
    "\n",
    "# The support for calibrating multiple parameters will be added later"
   ]
  }
 ],
 "metadata": {
  "kernelspec": {
   "display_name": "Python 3",
   "language": "python",
   "name": "python3"
  },
  "language_info": {
   "codemirror_mode": {
    "name": "ipython",
    "version": 3
   },
   "file_extension": ".py",
   "mimetype": "text/x-python",
   "name": "python",
   "nbconvert_exporter": "python",
   "pygments_lexer": "ipython3",
   "version": "3.8.16"
  }
 },
 "nbformat": 4,
 "nbformat_minor": 4
}
